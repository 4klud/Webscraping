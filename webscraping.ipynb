{
 "cells": [
  {
   "cell_type": "code",
   "execution_count": 1,
   "metadata": {
    "collapsed": true
   },
   "outputs": [],
   "source": [
    "from bs4 import BeautifulSoup\n",
    "import requests"
   ]
  },
  {
   "cell_type": "code",
   "execution_count": 2,
   "metadata": {},
   "outputs": [],
   "source": [
    "# Download the page and convert it to beautiful soup object\n",
    "nfl_url = \"https://sports.yahoo.com/nfl/stats/\"\n",
    "res = requests.get(nfl_url)\n",
    "soup = BeautifulSoup(res.content, 'html.parser')\n",
    "# or soup = BeautifulSoup(res.content, 'lxml') if you have lxml installed"
   ]
  },
  {
   "cell_type": "code",
   "execution_count": 3,
   "metadata": {},
   "outputs": [
    {
     "name": "stdout",
     "output_type": "stream",
     "text": [
      "Title tag: <title>NFL on Yahoo! Sports - News, Scores, Standings, Rumors, Fantasy Games</title>\n"
     ]
    }
   ],
   "source": [
    "# BeautifulSoup creates a tree-like structure \n",
    "# Here are a few ways to navigate the DOM\n",
    "title_tag = soup.head.title\n",
    "print(\"Title tag: {}\".format(title_tag))"
   ]
  },
  {
   "cell_type": "code",
   "execution_count": 4,
   "metadata": {},
   "outputs": [
    {
     "name": "stdout",
     "output_type": "stream",
     "text": [
      "Title Tag Text: NFL on Yahoo! Sports - News, Scores, Standings, Rumors, Fantasy Games\n"
     ]
    }
   ],
   "source": [
    "title_tag_text = soup.head.title.get_text()\n",
    "print(\"Title Tag Text: {}\".format(title_tag_text))"
   ]
  },
  {
   "cell_type": "code",
   "execution_count": 5,
   "metadata": {},
   "outputs": [
    {
     "data": {
      "text/plain": [
       "[<b class=\"P(4px)\" data-reactid=\"19\">Menu</b>,\n",
       " <b class=\"Hidden\" data-reactid=\"22\">Yahoo</b>,\n",
       " <b class=\"D(ib) Mt(10px) Fz(10px) Tt(u) W(107px) C(#fff)\" data-reactid=\"23\" id=\"uh-logo-site\">Sports</b>,\n",
       " <b class=\"P(4px)\" data-reactid=\"28\">Mail</b>,\n",
       " <b class=\"ModalShim\" data-reactid=\"1844\"></b>,\n",
       " <b class=\"IEShim\" data-reactid=\"1845\"></b>]"
      ]
     },
     "execution_count": 5,
     "metadata": {},
     "output_type": "execute_result"
    }
   ],
   "source": [
    "# Find all the paragaph elements (<b>)\n",
    "soup.find_all('b')"
   ]
  },
  {
   "cell_type": "code",
   "execution_count": 6,
   "metadata": {},
   "outputs": [
    {
     "name": "stdout",
     "output_type": "stream",
     "text": [
      "https://sports.yahoo.com/nfl/players/5479/\n",
      "https://sports.yahoo.com/nfl/players/6763/\n",
      "https://sports.yahoo.com/nfl/players/7426/\n",
      "https://sports.yahoo.com/nfl/players/6770/\n",
      "https://sports.yahoo.com/nfl/players/26483/\n",
      "https://sports.yahoo.com/nfl/players/30218/\n",
      "https://sports.yahoo.com/nfl/players/28398/\n",
      "https://sports.yahoo.com/nfl/players/30972/\n",
      "https://sports.yahoo.com/nfl/players/28014/\n",
      "https://sports.yahoo.com/nfl/players/25807/\n",
      "https://sports.yahoo.com/nfl/players/9353/\n",
      "https://sports.yahoo.com/nfl/players/29281/\n",
      "https://sports.yahoo.com/nfl/players/29399/\n",
      "https://sports.yahoo.com/nfl/players/24793/\n",
      "https://sports.yahoo.com/nfl/players/27535/\n",
      "https://sports.yahoo.com/nfl/players/27647/\n",
      "https://sports.yahoo.com/nfl/players/25719/\n",
      "https://sports.yahoo.com/nfl/players/29718/\n",
      "https://sports.yahoo.com/nfl/players/31040/\n",
      "https://sports.yahoo.com/nfl/players/9072/\n",
      "https://sports.yahoo.com/nfl/players/6770/\n",
      "https://sports.yahoo.com/nfl/players/30123/\n",
      "https://sports.yahoo.com/nfl/players/8780/\n",
      "https://sports.yahoo.com/nfl/players/29235/\n",
      "https://sports.yahoo.com/nfl/players/25711/\n",
      "https://sports.yahoo.com/nfl/players/29238/\n",
      "https://sports.yahoo.com/nfl/players/30972/\n",
      "https://sports.yahoo.com/nfl/players/28398/\n",
      "https://sports.yahoo.com/nfl/players/30161/\n",
      "https://sports.yahoo.com/nfl/players/30362/\n",
      "https://sports.yahoo.com/nfl/players/24793/\n",
      "https://sports.yahoo.com/nfl/players/26650/\n",
      "https://sports.yahoo.com/nfl/players/27535/\n",
      "https://sports.yahoo.com/nfl/players/29399/\n",
      "https://sports.yahoo.com/nfl/players/30175/\n",
      "https://sports.yahoo.com/nfl/players/6947/\n",
      "https://sports.yahoo.com/nfl/players/30641/\n",
      "https://sports.yahoo.com/nfl/players/31216/\n",
      "https://sports.yahoo.com/nfl/players/9769/\n",
      "https://sports.yahoo.com/nfl/players/29469/\n",
      "https://sports.yahoo.com/nfl/players/24063/\n",
      "https://sports.yahoo.com/nfl/players/29703/\n",
      "https://sports.yahoo.com/nfl/players/31166/\n",
      "https://sports.yahoo.com/nfl/players/29038/\n",
      "https://sports.yahoo.com/nfl/players/26652/\n",
      "https://sports.yahoo.com/nfl/players/31006/\n",
      "https://sports.yahoo.com/nfl/players/29365/\n",
      "https://sports.yahoo.com/nfl/players/25757/\n",
      "https://sports.yahoo.com/nfl/players/30989/\n",
      "https://sports.yahoo.com/nfl/players/27647/\n"
     ]
    }
   ],
   "source": [
    "# Get urls in page via the 'a' tag and filter for nfl/players in urls\n",
    "nfl_players_url = []\n",
    "for link in soup.find_all('a'):\n",
    "    link_url = link.get('href')\n",
    "    # discard \"None\"\n",
    "    if link_url:\n",
    "        if \"nfl/players\" in link_url:\n",
    "            print(link_url)\n",
    "            nfl_players_url.append(link_url)"
   ]
  },
  {
   "cell_type": "code",
   "execution_count": 7,
   "metadata": {
    "collapsed": true
   },
   "outputs": [],
   "source": [
    "# Look at a single link\n",
    "one_url = nfl_players_url[0]\n",
    "res_one_url = requests.get(one_url)\n",
    "soup_one_url = BeautifulSoup(res_one_url.content, 'html.parser')"
   ]
  },
  {
   "cell_type": "code",
   "execution_count": 8,
   "metadata": {},
   "outputs": [
    {
     "name": "stdout",
     "output_type": "stream",
     "text": [
      " New Orleans Yds3992Y/G266.1TD32QBRat115.7Height: 6' 0\"Weight: 209Born: College: PurdueBirth Place: Austin\n"
     ]
    }
   ],
   "source": [
    "# Find the line with Birth Place\n",
    "lines = soup_one_url.text\n",
    "res2 = lines.split(\",\")\n",
    "key_line = []\n",
    "for line in res2:\n",
    "    if \"Birth\" in line:\n",
    "        print(line)\n",
    "        key_line.append(line)"
   ]
  },
  {
   "cell_type": "code",
   "execution_count": 9,
   "metadata": {},
   "outputs": [
    {
     "name": "stdout",
     "output_type": "stream",
     "text": [
      "Austin\n"
     ]
    }
   ],
   "source": [
    "# Extract birthplace\n",
    "birth_place = key_line[0].split(\":\")[-1].strip()\n",
    "print(birth_place)"
   ]
  },
  {
   "cell_type": "code",
   "execution_count": 10,
   "metadata": {},
   "outputs": [
    {
     "name": "stdout",
     "output_type": "stream",
     "text": [
      "New Orleans Yds3992Y/G266.1TD32QBRat115.7Height: 6' 0\"Weight: 209Born: College: PurdueBirth Place: Austin\n",
      "LA Chargers Yds4308Y/G269.3TD32QBRat105.5Height: 6' 5\"Weight: 228Born: College: North Carolina StateBirth Place: Decatur\n",
      "Tampa Bay Yds2366Y/G295.8TD17QBRat100.4Height: 6' 2\"Weight: 223Born: College: HarvardBirth Place: Gilbert\n",
      "Pittsburgh Yds5129Y/G320.6TD34QBRat96.5Height: 6' 5\"Weight: 240Born: College: Miami (OH)Birth Place: Findlay\n",
      "Denver Yds3890Y/G243.1TD18QBRat81.2Height: 6' 1\"Weight: 215Born: College: HoustonBirth Place: Brownwood\n",
      "Pittsburgh Yds973Y/G74.8TD12Height: 6' 1\"Weight: 233Born: College: PittsburghBirth Place: Erie\n",
      "LA Rams Yds1251Y/G89.4TD17Height: 6' 1\"Weight: 224Born: College: GeorgiaBirth Place: Baltimore\n",
      "NY Giants Yds1307Y/G81.7TD11Height: 6' 0\"Weight: 233Born: College: Penn StateBirth Place: Bronx\n",
      "NY Jets Yds685Y/G52.7TD6Height: 5' 11\"Weight: 225Born: College: Alabama StateBirth Place: Columbus\n",
      "Houston Yds973Y/G69.5TD5Height: 5' 10\"Weight: 221Born: College: Miami (FL)Birth Place: Miami\n",
      "Oakland Yds896Y/G56.0TD6Height: 6' 5\"Weight: 254Born: College: South CarolinaBirth Place: Suwanee\n",
      "New Orleans Yds1405Y/G87.8TD9Height: 6' 3\"Weight: 212Born: College: Ohio StateBirth Place: Los Angeles\n",
      "skipping https://sports.yahoo.com/nfl/players/29399/\n",
      "None\n",
      "Atlanta Yds1677Y/G104.8TD8Height: 6' 3\"Weight: 220Born: College: AlabamaBirth Place: Foley\n",
      "Tampa Bay Yds1524Y/G95.3TD8Height: 6' 5\"Weight: 231Born: College: Texas A&MBirth Place: Galveston\n",
      "Kansas City Solo81Sack0.0Int0Height: 6' 0\"Weight: 235Born: College: IowaBirth Place: Lorain\n",
      "Carolina Solo93Sack2.0Int1Height: 6' 3\"Weight: 238Born: College: Boston CollegeBirth Place: Cincinnati\n",
      "skipping https://sports.yahoo.com/nfl/players/29718/\n",
      "None\n",
      "skipping https://sports.yahoo.com/nfl/players/31040/\n",
      "None\n",
      "Tennessee Solo69Sack4.5Int0Height: 6' 0\"Weight: 233Born: College: KentuckyBirth Place: LaGrange\n",
      "Pittsburgh Yds5129Y/G320.6TD34QBRat96.5Height: 6' 5\"Weight: 240Born: College: Miami (OH)Birth Place: Findlay\n",
      "Kansas City Yds5097Y/G318.6TD50QBRat113.8Height: 6' 3\"Weight: 230Born: College: Texas TechBirth Place: Tyler\n",
      "Atlanta Yds4924Y/G307.8TD35QBRat108.1Height: 6' 4\"Weight: 217Born: College: Boston CollegeBirth Place: Exton\n",
      "LA Rams Yds4688Y/G293.0TD32QBRat101.1Height: 6' 4\"Weight: 222Born: College: CaliforniaBirth Place: Novato\n",
      "Indianapolis Yds4593Y/G287.1TD39QBRat98.7Height: 6' 4\"Weight: 240Born: College: StanfordBirth Place: Washington\n",
      "Dallas Yds1434Y/G95.6TD6Height: 6' 0\"Weight: 228Born: College: Ohio StateBirth Place: St. Louis\n",
      "NY Giants Yds1307Y/G81.7TD11Height: 6' 0\"Weight: 233Born: College: Penn StateBirth Place: Bronx\n",
      "LA Rams Yds1251Y/G89.4TD17Height: 6' 1\"Weight: 224Born: College: GeorgiaBirth Place: Baltimore\n",
      "Cincinnati Yds1168Y/G83.4TD8Height: 6' 1\"Weight: 220Born: College: OklahomaBirth Place: Oakley\n",
      "Seattle Yds1151Y/G82.2TD9Height: 5' 11\"Weight: 222Born: College: Oklahoma StateBirth Place: Biloxi\n",
      "Atlanta Yds1677Y/G104.8TD8Height: 6' 3\"Weight: 220Born: College: AlabamaBirth Place: Foley\n",
      "Houston Yds1572Y/G98.3TD11Height: 6' 1\"Weight: 212Born: College: ClemsonBirth Place: Central\n",
      "Tampa Bay Yds1524Y/G95.3TD8Height: 6' 5\"Weight: 231Born: College: Texas A&MBirth Place: Galveston\n",
      "skipping https://sports.yahoo.com/nfl/players/29399/\n",
      "None\n",
      "Pittsburgh Yds1426Y/G89.1TD7Height: 6' 1\"Weight: 215Born: College: USCBirth Place: Long Beach\n",
      "Arizona Avg48.6Long64In2032Height: 6' 1\"Weight: 185Born: College: PittsburghBirth Place: Westminster\n",
      "skipping https://sports.yahoo.com/nfl/players/30641/\n",
      "None\n",
      "skipping https://sports.yahoo.com/nfl/players/31216/\n",
      "None\n",
      "Cleveland Avg45.4Long79In2032Height: 6' 3\"Weight: 210Born: College: TennesseeBirth Place: Knoxville\n",
      "skipping https://sports.yahoo.com/nfl/players/29469/\n",
      "None\n",
      "NY Jets Yds79Y/G4.9TD1Height: 5' 11\"Weight: 195Born: College: CitadelBirth Place: Columbia\n",
      "Cincinnati Yds167Y/G10.4TD0Height: 6' 0\"Weight: 195Born: College: WisconsinBirth Place: Madison\n",
      "skipping https://sports.yahoo.com/nfl/players/31166/\n",
      "None\n",
      "Tennessee Yds101Y/G6.3TD0Height: 5' 10\"Weight: 180Born: College: VirginiaBirth Place: Baltimore\n",
      "New England Yds247Y/G16.5TD3Height: 6' 2\"Weight: 228Born: College: TennesseeBirth Place: Rock Hill\n",
      "skipping https://sports.yahoo.com/nfl/players/31006/\n",
      "None\n",
      "Green Bay Solo91Sack5.0Int0Height: 6' 2\"Weight: 237Born: College: StanfordBirth Place: Tucson\n",
      "Seattle Solo84Sack1.0Int1Height: 6' 0\"Weight: 245Born: College: Utah StateBirth Place: Los Angeles\n",
      "skipping https://sports.yahoo.com/nfl/players/30989/\n",
      "None\n",
      "Kansas City Solo81Sack0.0Int0Height: 6' 0\"Weight: 235Born: College: IowaBirth Place: Lorain\n"
     ]
    }
   ],
   "source": [
    "def find_birthplaces(urls):\n",
    "    \"\"\"Get the Birthplaces\"\"\"\n",
    "    for url in urls:\n",
    "        profile = requests.get(url)\n",
    "        profile_url = BeautifulSoup(profile.content, \"html.parser\")\n",
    "        lines = profile_url.text\n",
    "        res2 = lines.split(\",\")\n",
    "        key_line = []\n",
    "        for line in res2:\n",
    "            if \"Birth\" in line:\n",
    "                # print (line)\n",
    "                key_line.append(line)\n",
    "        birth_place = None\n",
    "        try:\n",
    "            birth_place = key_line[0].split(\"*\")[-1].strip()\n",
    "        except IndexError:\n",
    "            print(f\"skipping {url}\")\n",
    "        print(birth_place)\n",
    "        \n",
    "find_birthplaces(nfl_players_url)"
   ]
  },
  {
   "cell_type": "code",
   "execution_count": 11,
   "metadata": {
    "collapsed": true
   },
   "outputs": [],
   "source": [
    "class HTMLTable:\n",
    "    \"\"\"A class that will parse the first HTML Table\"\"\"\n",
    "    def __init__(self, html, html_parser='html5lib'):\n",
    "        self.html    = html\n",
    "        self.soup    = BeautifulSoup(html, html_parser)\n",
    "        self.table   = self.soup.find('table')\n",
    "        self.headers = None\n",
    "        self.data    = None\n",
    "        \n",
    "    def get_headers(self):\n",
    "        \"\"\"Returns the values in the thead element of the table\"\"\"\n",
    "        if self.headers:\n",
    "            return self.headers\n",
    "        self.headers = [hdr.get_text() for hdr in self.table.thead.select('tr th')]\n",
    "        return self.headers\n",
    "    \n",
    "    def get_data(self):\n",
    "        \"\"\"Returns the values in the tbody element of the table\"\"\"\n",
    "        if self.data:\n",
    "            return self.data\n",
    "        data = []\n",
    "        for tr in self.table.tbody.find_all(\"tr\"):\n",
    "            data.append([td.get_text().replace(\" \", \"\").replace(\"\\n\", \"\") for td in tr.select('td')])\n",
    "        self.data = data\n",
    "        return self.data\n",
    "    \n",
    "    def write_csv(self, filename):\n",
    "        \"\"\"Write a csv of the parsed html table\"\"\"\n",
    "        import csv\n",
    "        print(\"Writing the table to {}\".format(filename))\n",
    "        with open(filename, 'w') as csvfile:\n",
    "            writer = csv.writer(csvfile)\n",
    "            writer.writerow(self.get_headers()) # First write out the headers\n",
    "            writer.writerows(self.get_data())  # Then write out all the data\n",
    "        print(\"Done!\")\n",
    "        \n",
    "    def to_dataframe(self):\n",
    "        \"\"\"Returns a pandas dataframe of the table\"\"\"\n",
    "        import pandas as pd\n",
    "        return pd.DataFrame(self.get_data(), columns=self.get_headers())"
   ]
  },
  {
   "cell_type": "code",
   "execution_count": 12,
   "metadata": {
    "collapsed": true
   },
   "outputs": [],
   "source": [
    "# Another example\n",
    "market_url = 'https://www.investing.com/crypto/currencies'\n",
    "# Set a custom user-agent header\n",
    "HEADERS = {'user-agent': 'Mozilla/5.0 (Macintosh; Intel Mac OS X 10_14_0)\\\n",
    "                          AppleWebKit/537.36 (KHTML, like Gecko)\\\n",
    "                          Chrome/66.0.3359.139 Safari/537.36'}\n",
    "response = requests.get(market_url, headers=HEADERS)\n",
    "# Check that we got an 'ok' status\n",
    "response.raise_for_status()\n",
    "# Parse the content into a string (watch out for unicode!)\n",
    "raw_html = response.content.decode(\"utf-8\")\n",
    "\n",
    "table = HTMLTable(raw_html)"
   ]
  },
  {
   "cell_type": "code",
   "execution_count": 13,
   "metadata": {},
   "outputs": [
    {
     "data": {
      "text/plain": [
       "['#',\n",
       " '\\xa0',\n",
       " 'Name ',\n",
       " 'Symbol',\n",
       " 'Price (USD)',\n",
       " ' Market Cap',\n",
       " 'Vol (24H)',\n",
       " 'Total Vol',\n",
       " 'Chg (24H)',\n",
       " 'Chg (7D)']"
      ]
     },
     "execution_count": 13,
     "metadata": {},
     "output_type": "execute_result"
    }
   ],
   "source": [
    "table.get_headers()"
   ]
  },
  {
   "cell_type": "code",
   "execution_count": 14,
   "metadata": {},
   "outputs": [
    {
     "data": {
      "text/plain": [
       "[['1',\n",
       "  '',\n",
       "  'Bitcoin',\n",
       "  'BTC',\n",
       "  '3,509.8',\n",
       "  '$62.32B',\n",
       "  '$4.62B',\n",
       "  '31.81%',\n",
       "  '-2.38%',\n",
       "  '-12.47%'],\n",
       " ['2',\n",
       "  '',\n",
       "  'XRP',\n",
       "  'XRP',\n",
       "  '0.3178',\n",
       "  '$13.26B',\n",
       "  '$486.15M',\n",
       "  '3.35%',\n",
       "  '-2.28%',\n",
       "  '-12.17%'],\n",
       " ['3',\n",
       "  '',\n",
       "  'Ethereum',\n",
       "  'ETH',\n",
       "  '116.6',\n",
       "  '$12.35B',\n",
       "  '$2.28B',\n",
       "  '15.68%',\n",
       "  '-5.34%',\n",
       "  '-24.62%'],\n",
       " ['4',\n",
       "  '',\n",
       "  'BitcoinCash',\n",
       "  'BCH',\n",
       "  '124.6',\n",
       "  '$2.23B',\n",
       "  '$177.84M',\n",
       "  '1.23%',\n",
       "  '-5.68%',\n",
       "  '-24.04%']]"
      ]
     },
     "execution_count": 14,
     "metadata": {},
     "output_type": "execute_result"
    }
   ],
   "source": [
    "table.get_data()[:4]"
   ]
  },
  {
   "cell_type": "code",
   "execution_count": 15,
   "metadata": {},
   "outputs": [
    {
     "name": "stdout",
     "output_type": "stream",
     "text": [
      "#               Name   Symbol    Price (USD)   Market Cap  Vol (24H)  Total Vol  Chg (24H)  Chg (7D)\r\n",
      "1  Bitcoin      BTC    \"3        483.7\"       $62.07B      $4.64B     32.07%     -3.26%     -12.77%\r\n",
      "2  XRP          XRP    0.31182   $13.03B      $442.98M     3.06%      -4.68%     -13.66%\r\n",
      "3  Ethereum     ETH    114.42    $12.19B      $2.26B       15.60%     -7.67%     -25.83%\r\n",
      "4  BitcoinCash  BCH    121.53    $2.18B       $178.56M     1.23%      -8.75%     -25.58%\r\n",
      "5  EOS          EOS    2.2086    $2.04B       $653.51M     4.52%      -7.46%     -21.46%\r\n",
      "6  Stellar      XLM    0.10097   $1.98B       $120.26M     0.83%      -3.35%     -14.17%\r\n",
      "7  Tether       USDT   1.00891   $1.97B       $3.35B       23.17%     -0.03%     -0.10%\r\n",
      "8  Litecoin     LTC    29.608    $1.82B       $559.51M     3.87%      -6.89%     -22.57%\r\n",
      "9  TRON         TRX    0.020759  $1.42B       $170.72M     1.18%      -11.38%    -7.93%\r\n"
     ]
    }
   ],
   "source": [
    "%%bash\n",
    "TODAY=$(date +%Y%m%d)\n",
    "head Currencies${TODAY}.csv | column -t -s,"
   ]
  },
  {
   "cell_type": "code",
   "execution_count": 16,
   "metadata": {},
   "outputs": [
    {
     "data": {
      "text/html": [
       "<div>\n",
       "<style>\n",
       "    .dataframe thead tr:only-child th {\n",
       "        text-align: right;\n",
       "    }\n",
       "\n",
       "    .dataframe thead th {\n",
       "        text-align: left;\n",
       "    }\n",
       "\n",
       "    .dataframe tbody tr th {\n",
       "        vertical-align: top;\n",
       "    }\n",
       "</style>\n",
       "<table border=\"1\" class=\"dataframe\">\n",
       "  <thead>\n",
       "    <tr style=\"text-align: right;\">\n",
       "      <th></th>\n",
       "      <th>#</th>\n",
       "      <th></th>\n",
       "      <th>Name</th>\n",
       "      <th>Symbol</th>\n",
       "      <th>Price (USD)</th>\n",
       "      <th>Market Cap</th>\n",
       "      <th>Vol (24H)</th>\n",
       "      <th>Total Vol</th>\n",
       "      <th>Chg (24H)</th>\n",
       "      <th>Chg (7D)</th>\n",
       "    </tr>\n",
       "  </thead>\n",
       "  <tbody>\n",
       "    <tr>\n",
       "      <th>0</th>\n",
       "      <td>1</td>\n",
       "      <td></td>\n",
       "      <td>Bitcoin</td>\n",
       "      <td>BTC</td>\n",
       "      <td>3,509.8</td>\n",
       "      <td>$62.32B</td>\n",
       "      <td>$4.62B</td>\n",
       "      <td>31.81%</td>\n",
       "      <td>-2.38%</td>\n",
       "      <td>-12.47%</td>\n",
       "    </tr>\n",
       "    <tr>\n",
       "      <th>1</th>\n",
       "      <td>2</td>\n",
       "      <td></td>\n",
       "      <td>XRP</td>\n",
       "      <td>XRP</td>\n",
       "      <td>0.3178</td>\n",
       "      <td>$13.26B</td>\n",
       "      <td>$486.15M</td>\n",
       "      <td>3.35%</td>\n",
       "      <td>-2.28%</td>\n",
       "      <td>-12.17%</td>\n",
       "    </tr>\n",
       "    <tr>\n",
       "      <th>2</th>\n",
       "      <td>3</td>\n",
       "      <td></td>\n",
       "      <td>Ethereum</td>\n",
       "      <td>ETH</td>\n",
       "      <td>116.6</td>\n",
       "      <td>$12.35B</td>\n",
       "      <td>$2.28B</td>\n",
       "      <td>15.68%</td>\n",
       "      <td>-5.34%</td>\n",
       "      <td>-24.62%</td>\n",
       "    </tr>\n",
       "    <tr>\n",
       "      <th>3</th>\n",
       "      <td>4</td>\n",
       "      <td></td>\n",
       "      <td>BitcoinCash</td>\n",
       "      <td>BCH</td>\n",
       "      <td>124.6</td>\n",
       "      <td>$2.23B</td>\n",
       "      <td>$177.84M</td>\n",
       "      <td>1.23%</td>\n",
       "      <td>-5.68%</td>\n",
       "      <td>-24.04%</td>\n",
       "    </tr>\n",
       "    <tr>\n",
       "      <th>4</th>\n",
       "      <td>5</td>\n",
       "      <td></td>\n",
       "      <td>EOS</td>\n",
       "      <td>EOS</td>\n",
       "      <td>2.2534</td>\n",
       "      <td>$2.07B</td>\n",
       "      <td>$662.83M</td>\n",
       "      <td>4.57%</td>\n",
       "      <td>-5.40%</td>\n",
       "      <td>-20.09%</td>\n",
       "    </tr>\n",
       "  </tbody>\n",
       "</table>\n",
       "</div>"
      ],
      "text/plain": [
       "   #          Name  Symbol Price (USD)  Market Cap Vol (24H) Total Vol  \\\n",
       "0  1        Bitcoin    BTC     3,509.8     $62.32B    $4.62B    31.81%   \n",
       "1  2            XRP    XRP      0.3178     $13.26B  $486.15M     3.35%   \n",
       "2  3       Ethereum    ETH       116.6     $12.35B    $2.28B    15.68%   \n",
       "3  4    BitcoinCash    BCH       124.6      $2.23B  $177.84M     1.23%   \n",
       "4  5            EOS    EOS      2.2534      $2.07B  $662.83M     4.57%   \n",
       "\n",
       "  Chg (24H) Chg (7D)  \n",
       "0    -2.38%  -12.47%  \n",
       "1    -2.28%  -12.17%  \n",
       "2    -5.34%  -24.62%  \n",
       "3    -5.68%  -24.04%  \n",
       "4    -5.40%  -20.09%  "
      ]
     },
     "execution_count": 16,
     "metadata": {},
     "output_type": "execute_result"
    }
   ],
   "source": [
    "df = table.to_dataframe()\n",
    "df.head()"
   ]
  }
 ],
 "metadata": {
  "kernelspec": {
   "display_name": "Python 3",
   "language": "python",
   "name": "python3"
  },
  "language_info": {
   "codemirror_mode": {
    "name": "ipython",
    "version": 3
   },
   "file_extension": ".py",
   "mimetype": "text/x-python",
   "name": "python",
   "nbconvert_exporter": "python",
   "pygments_lexer": "ipython3",
   "version": "3.6.3"
  }
 },
 "nbformat": 4,
 "nbformat_minor": 2
}
